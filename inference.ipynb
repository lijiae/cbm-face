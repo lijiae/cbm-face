{
 "cells": [
  {
   "cell_type": "code",
   "execution_count": null,
   "outputs": [],
   "source": [
    "import torch\n",
    "import numpy as np\n",
    "from data.imagedata import img_attr_label\n",
    "from model.resnet50 import CB\n",
    "from PIL import Image\n",
    "import pandas as pd\n",
    "import torchvision\n",
    "import os\n",
    "import matplotlib.pyplot as plt\n",
    "from tabulate import tabulate"
   ],
   "metadata": {
    "collapsed": false
   }
  },
  {
   "cell_type": "code",
   "execution_count": null,
   "outputs": [],
   "source": [
    "device='cuda'\n",
    "imagedir='/media/lijia/系统/data/train_align'\n",
    "imagepath='n000002/0001_01.jpg'\n",
    "maadpath='/media/lijia/系统/data/vggface2/MAAD_Face.csv'\n",
    "idpath='train_id.csv'"
   ],
   "metadata": {
    "collapsed": false
   }
  },
  {
   "cell_type": "code",
   "execution_count": null,
   "outputs": [],
   "source": [
    "target_attributions= ['Male','Young', 'Middle_Aged', 'Senior','Asian','White','Black','Rosy_Cheeks','Shiny_Skin','Bald','Wavy_Hair','Receding_Hairline','Bangs','Sideburns',\n",
    "                'Black_Hair','Blond_Hair','Brown_Hair','Gray_Hair','No_Beard','Mustache',\n",
    "                '5_o_Clock_Shadow','Goatee','Oval_Face','Square_Face','Round_Face','Double_Chin',\n",
    "                'High_Cheekbones','Chubby','Obstructed_Forehead', 'Fully_Visible_Forehead','Brown_Eyes',\n",
    "                'Bags_Under_Eyes','Bushy_Eyebrows','Arched_Eyebrows','Mouth_Closed','Smiling',\n",
    "                'Big_Lips','Big_Nose','Pointy_Nose','Heavy_Makeup','Wearing_Hat','Wearing_Earrings',\n",
    "                'Wearing_Necktie','Wearing_Lipstick','No_Eyewear','Eyeglasses','Attractive']"
   ],
   "metadata": {
    "collapsed": false
   }
  },
  {
   "cell_type": "code",
   "execution_count": null,
   "outputs": [],
   "source": [
    "maad=pd.read_csv(maadpath)\n",
    "id_csv=pd.read_csv(idpath)"
   ],
   "metadata": {
    "collapsed": false
   }
  },
  {
   "cell_type": "code",
   "execution_count": null,
   "outputs": [],
   "source": [
    "# load model\n",
    "model=CB(len(target_attributions),8631)\n",
    "model.load_state_dict(torch.load('/home/lijia/codes/202210/cbw-face/checkpoints/13_cb.pth.tar')['state_dict'])\n",
    "model.to(device)\n",
    "model.eval()"
   ],
   "metadata": {
    "collapsed": false
   }
  },
  {
   "cell_type": "code",
   "execution_count": null,
   "outputs": [],
   "source": [
    "def read_image(dir,path):\n",
    "    img=Image.open(os.path.join(dir,path))\n",
    "    img=torchvision.transforms.Resize(224)(img)\n",
    "    img=np.array(img)\n",
    "    img = img[:, :, ::-1]  # RGB -> BGR\n",
    "    img = img.astype(np.float32)\n",
    "    img -=np.array([91.4953, 103.8827, 131.0912])\n",
    "    img = img.transpose(2, 0, 1)  # C x H x W\n",
    "    img = torch.from_numpy(img).float()\n",
    "    return img"
   ],
   "metadata": {
    "collapsed": false
   }
  },
  {
   "cell_type": "code",
   "execution_count": null,
   "outputs": [],
   "source": [
    "image=read_image(imagedir,imagepath)"
   ],
   "metadata": {
    "collapsed": false
   }
  },
  {
   "cell_type": "code",
   "execution_count": null,
   "outputs": [],
   "source": [
    "attr=maad[maad['Filename']==imagepath][target_attributions]\n",
    "id=id_csv[id_csv['Filename']==imagepath]['id']"
   ],
   "metadata": {
    "collapsed": false
   }
  },
  {
   "cell_type": "code",
   "execution_count": null,
   "outputs": [],
   "source": [
    "attr=np.array(attr).squeeze(0)\n",
    "attr[attr==-1]=0\n",
    "id=np.array(id).squeeze(0)"
   ],
   "metadata": {
    "collapsed": false
   }
  },
  {
   "cell_type": "code",
   "execution_count": null,
   "outputs": [],
   "source": [
    "image=image.to(device)\n",
    "c,y=model(image.unsqueeze(0))"
   ],
   "metadata": {
    "collapsed": false
   }
  },
  {
   "cell_type": "code",
   "execution_count": null,
   "outputs": [],
   "source": [
    "c_label=c.cpu().detach().numpy().squeeze(0)\n",
    "y_label=np.argmax(y.cpu().detach().numpy())"
   ],
   "metadata": {
    "collapsed": false
   }
  },
  {
   "cell_type": "code",
   "execution_count": null,
   "outputs": [],
   "source": [
    "print(type(target_attributions),type(attr.tolist()),type(c_label.tolist()))\n",
    "table_c={\n",
    "    'type\\\\attr_name':target_attributions,\n",
    "    'GT':attr.tolist(),\n",
    "    'predict':c_label.tolist()\n",
    "}\n",
    "\n",
    "print(tabulate(table_c,headers='keys'))"
   ],
   "metadata": {
    "collapsed": false
   }
  },
  {
   "cell_type": "code",
   "execution_count": null,
   "outputs": [],
   "source": [
    "def plt_attr(attr,concept):\n",
    "    plt.figure(figsize=(20,30))\n",
    "    font={\n",
    "        'weight':'normal',\n",
    "        'size':20,\n",
    "    }\n",
    "    plt.xlabel('attribution',font)\n",
    "    plt.plot(attr.tolist(),target_attributions,linewidth=3,marker='o',markersize=10)\n",
    "    plt.plot(concept.tolist(),target_attributions,linewidth=3,marker='o',markersize=10)\n",
    "    # plt.xticks(np.arange(len(target_attributions)),target_attributions)\n",
    "    plt.yticks(size=15)\n",
    "    plt.legend(['GT','Prediction'])\n",
    "    plt.show()"
   ],
   "metadata": {
    "collapsed": false
   }
  },
  {
   "cell_type": "code",
   "execution_count": null,
   "outputs": [],
   "source": [
    "plt_attr(attr,c_label)"
   ],
   "metadata": {
    "collapsed": false
   }
  },
  {
   "cell_type": "markdown",
   "source": [
    "## visual counterfactual\n",
    "change the concept class in cbm and observing the change in identity"
   ],
   "metadata": {
    "collapsed": false
   }
  },
  {
   "cell_type": "code",
   "execution_count": null,
   "outputs": [],
   "source": [
    "def get_attrindex(an):\n",
    "    return target_attributions.index(an)"
   ],
   "metadata": {
    "collapsed": false
   }
  },
  {
   "cell_type": "code",
   "execution_count": null,
   "outputs": [],
   "source": [
    "attr_name='Mustache'\n",
    "classifier=model.get_f()"
   ],
   "metadata": {
    "collapsed": false
   }
  },
  {
   "cell_type": "code",
   "execution_count": null,
   "outputs": [],
   "source": [
    "cc=c.clone().detach()\n",
    "\n",
    "origin=cc[0][get_attrindex(attr_name)].clone().detach()\n",
    "print('origin:',origin)\n",
    "after=1-origin\n",
    "print('after:',after)\n",
    "print('origin identity:{}'.format(y_label))\n",
    "cc[0][get_attrindex(attr_name)]=after\n",
    "y_modify=classifier(cc)\n",
    "y_modify=np.argmax(y_modify.cpu().detach().numpy())\n",
    "print('when change {} : {} to {},the identity is {}'.format(attr_name,origin,after,y_modify))"
   ],
   "metadata": {
    "collapsed": false
   }
  }
 ],
 "metadata": {
  "kernelspec": {
   "display_name": "Python 3",
   "language": "python",
   "name": "python3"
  },
  "language_info": {
   "codemirror_mode": {
    "name": "ipython",
    "version": 2
   },
   "file_extension": ".py",
   "mimetype": "text/x-python",
   "name": "python",
   "nbconvert_exporter": "python",
   "pygments_lexer": "ipython2",
   "version": "2.7.6"
  }
 },
 "nbformat": 4,
 "nbformat_minor": 0
}
